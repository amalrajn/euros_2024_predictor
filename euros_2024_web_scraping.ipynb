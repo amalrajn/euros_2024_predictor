{
 "cells": [
  {
   "cell_type": "code",
   "execution_count": 1,
   "id": "06e0f661",
   "metadata": {},
   "outputs": [],
   "source": [
    "import requests\n",
    "from bs4 import BeautifulSoup"
   ]
  },
  {
   "cell_type": "markdown",
   "id": "1ba688a2",
   "metadata": {},
   "source": [
    "Euros 2021 Database Scraping"
   ]
  },
  {
   "cell_type": "code",
   "execution_count": 32,
   "id": "6e5342c6",
   "metadata": {},
   "outputs": [
    {
     "name": "stdout",
     "output_type": "stream",
     "text": [
      "['Austria', 4.3, 20.23, 42.79, 1.15, 1.15, 1.17, 0.98, -0.02, 0.17]\n",
      "['Belgium', 5.0, 19.6, 40.2, 1.6, 1.2, 1.18, 0.81, 0.42, 0.39]\n",
      "['Croatia', 4.3, 20.93, 30.93, 1.38, 1.15, 1.27, 1.17, 0.11, -0.02]\n",
      "['Czech Republic', 5.0, 16.8, 35.8, 1.2, 0.8, 1.23, 0.94, -0.03, -0.14]\n",
      "['Denmark', 6.3, 19.52, 38.1, 1.89, 1.26, 1.57, 1.01, 0.32, 0.25]\n",
      "['England', 7.7, 16.62, 34.94, 1.3, 1.04, 1.44, 1.2, -0.14, -0.16]\n",
      "['Finland', 3.0, 9.67, 24.0, 0.33, 0.33, 0.5, 0.49, -0.17, -0.16]\n",
      "['France', 4.3, 21.86, 48.84, 1.38, 0.46, 1.72, 1.28, -0.34, -0.82]\n",
      "['Germany', 4.0, 16.75, 58.5, 1.0, 0.75, 1.77, 1.45, -0.77, -0.7]\n",
      "['Hungary', 3.0, 7.0, 16.67, 1.0, 1.0, 0.48, 0.43, 0.52, 0.57]\n",
      "['Italy', 8.0, 19.38, 41.12, 1.5, 1.13, 1.64, 1.39, -0.14, -0.26]\n",
      "['N. Macedonia', 3.0, 13.67, 27.33, 0.67, 0.0, 1.0, 0.63, -0.33, -0.63]\n",
      "['Netherlands', 4.0, 21.75, 46.0, 2.0, 1.25, 2.15, 1.5, -0.15, -0.25]\n",
      "['Poland', 3.0, 17.0, 42.0, 1.33, 1.33, 1.55, 1.17, -0.22, 0.16]\n",
      "['Portugal', 4.0, 18.25, 44.25, 1.75, 1.0, 1.97, 1.31, -0.22, -0.31]\n",
      "['Russia', 3.0, 14.67, 31.33, 0.67, 0.33, 0.77, 0.42, -0.1, -0.09]\n",
      "['Scotland', 3.0, 9.67, 32.33, 0.33, 0.0, 1.3, 1.05, -0.97, -1.05]\n",
      "['Slovakia', 3.0, 11.67, 24.0, 0.33, 0.33, 0.34, 0.28, -0.01, 0.05]\n",
      "['Spain', 7.0, 24.43, 61.57, 1.43, 1.29, 2.38, 1.83, -0.95, -0.54]\n",
      "['Sweden', 4.3, 10.47, 28.84, 1.15, 0.92, 1.19, 0.8, -0.04, 0.12]\n",
      "['Switzerland', 5.7, 15.44, 40.7, 1.41, 1.41, 1.26, 0.98, 0.15, 0.43]\n",
      "['Türkiye', 3.0, 13.33, 35.0, 0.33, 0.33, 1.01, 0.97, -0.68, -0.64]\n",
      "['Ukraine', 5.3, 20.57, 32.83, 1.13, 1.13, 1.17, 0.95, -0.04, 0.18]\n",
      "['Wales', 4.0, 13.5, 24.5, 0.75, 0.75, 1.22, 0.96, -0.47, -0.21]\n"
     ]
    }
   ],
   "source": [
    "url = requests.get('https://fbref.com/en/comps/676/2021/stats/2021-European-Championship-Stats.html')\n",
    "\n",
    "soup = BeautifulSoup(url.text, 'html.parser')\n",
    "#print(soup)\n",
    "#soup.prettify()\n",
    "\n",
    "table = soup.find('div', attrs = {'id' : 'div_stats_squads_standard_for'}).find('table').find('tbody')\n",
    "#print(table)\n",
    "\n",
    "rows = table.find_all('tr')\n",
    "\n",
    "for row in rows:\n",
    "    #print(row)\n",
    "    #print('-----------')\n",
    "    columns = row.find_all('td')\n",
    "    \n",
    "    \n",
    "    if len(columns) > 0:\n",
    "        squad = row.find('th').find('a').text\n",
    "        \n",
    "        played90s = float(columns[6].text)\n",
    "        \n",
    "        progcarry = float(columns[19].text)\n",
    "        progpass = float(columns[20].text)\n",
    "        \n",
    "        progcarryx90 = round(progcarry/played90s, 2)\n",
    "        progpassx90 = round(progpass/played90s, 2)\n",
    "        \n",
    "        goalsx90 = float(columns[21].text)\n",
    "        assistsx90 = float(columns[22].text)\n",
    "        expgoalsx90 = float(columns[26].text)\n",
    "        expassistsx90 = float(columns[27].text)\n",
    "        \n",
    "        diffgoalx90 = round(goalsx90 - expgoalsx90, 2)\n",
    "        diffassistx90 = round(assistsx90 - expassistsx90, 2)\n",
    "        \n",
    "    values = [squad, played90s, progcarryx90, progpassx90, goalsx90, assistsx90, expgoalsx90, expassistsx90, diffgoalx90, diffassistx90]\n",
    "    print(values)"
   ]
  },
  {
   "cell_type": "markdown",
   "id": "9bd83214",
   "metadata": {},
   "source": [
    "Nations League 2022/23 Database Scraping"
   ]
  },
  {
   "cell_type": "code",
   "execution_count": null,
   "id": "556a1d43",
   "metadata": {},
   "outputs": [],
   "source": []
  }
 ],
 "metadata": {
  "kernelspec": {
   "display_name": "Python 3 (ipykernel)",
   "language": "python",
   "name": "python3"
  },
  "language_info": {
   "codemirror_mode": {
    "name": "ipython",
    "version": 3
   },
   "file_extension": ".py",
   "mimetype": "text/x-python",
   "name": "python",
   "nbconvert_exporter": "python",
   "pygments_lexer": "ipython3",
   "version": "3.11.5"
  }
 },
 "nbformat": 4,
 "nbformat_minor": 5
}
