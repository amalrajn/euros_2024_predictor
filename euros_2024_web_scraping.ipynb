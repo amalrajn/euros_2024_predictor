{
 "cells": [
  {
   "cell_type": "code",
   "execution_count": 2,
   "id": "06e0f661",
   "metadata": {},
   "outputs": [],
   "source": [
    "import requests\n",
    "from bs4 import BeautifulSoup"
   ]
  },
  {
   "cell_type": "markdown",
   "id": "d8ff20a8",
   "metadata": {},
   "source": [
    "**Array of Qualifying countries**"
   ]
  },
  {
   "cell_type": "code",
   "execution_count": 3,
   "id": "1a8fb236",
   "metadata": {},
   "outputs": [],
   "source": [
    "qualifying_countries = [\"Albania\", \"Austria\", \"Belgium\", \"Croatia\", \"Czech Republic\", \"Denmark\", \"England\", \"France\", \"Germany\", \"Hungary\", \"Italy\", \"Netherlands\", \"Portugal\", \"Romania\", \"Scotland\", \"Serbia\", \"Slovakia\", \"Slovenia\", \"Spain\", \"Switzerland\", \"Türkiye\"]"
   ]
  },
  {
   "cell_type": "markdown",
   "id": "1ba688a2",
   "metadata": {},
   "source": [
    "**Euros 2021 Database Scraping**"
   ]
  },
  {
   "cell_type": "code",
   "execution_count": 6,
   "id": "6e5342c6",
   "metadata": {},
   "outputs": [
    {
     "name": "stdout",
     "output_type": "stream",
     "text": [
      "['Austria', 4.3, 20.23, 42.79, 1.15, 1.15, 1.17, 0.98, -0.02, 0.17]\n",
      "['Belgium', 5.0, 19.6, 40.2, 1.6, 1.2, 1.18, 0.81, 0.42, 0.39]\n",
      "['Croatia', 4.3, 20.93, 30.93, 1.38, 1.15, 1.27, 1.17, 0.11, -0.02]\n",
      "['Czech Republic', 5.0, 16.8, 35.8, 1.2, 0.8, 1.23, 0.94, -0.03, -0.14]\n",
      "['Denmark', 6.3, 19.52, 38.1, 1.89, 1.26, 1.57, 1.01, 0.32, 0.25]\n",
      "['England', 7.7, 16.62, 34.94, 1.3, 1.04, 1.44, 1.2, -0.14, -0.16]\n",
      "['France', 4.3, 21.86, 48.84, 1.38, 0.46, 1.72, 1.28, -0.34, -0.82]\n",
      "['Germany', 4.0, 16.75, 58.5, 1.0, 0.75, 1.77, 1.45, -0.77, -0.7]\n",
      "['Hungary', 3.0, 7.0, 16.67, 1.0, 1.0, 0.48, 0.43, 0.52, 0.57]\n",
      "['Italy', 8.0, 19.38, 41.12, 1.5, 1.13, 1.64, 1.39, -0.14, -0.26]\n",
      "['Netherlands', 4.0, 21.75, 46.0, 2.0, 1.25, 2.15, 1.5, -0.15, -0.25]\n",
      "['Portugal', 4.0, 18.25, 44.25, 1.75, 1.0, 1.97, 1.31, -0.22, -0.31]\n",
      "['Scotland', 3.0, 9.67, 32.33, 0.33, 0.0, 1.3, 1.05, -0.97, -1.05]\n",
      "['Slovakia', 3.0, 11.67, 24.0, 0.33, 0.33, 0.34, 0.28, -0.01, 0.05]\n",
      "['Spain', 7.0, 24.43, 61.57, 1.43, 1.29, 2.38, 1.83, -0.95, -0.54]\n",
      "['Switzerland', 5.7, 15.44, 40.7, 1.41, 1.41, 1.26, 0.98, 0.15, 0.43]\n",
      "['Türkiye', 3.0, 13.33, 35.0, 0.33, 0.33, 1.01, 0.97, -0.68, -0.64]\n"
     ]
    }
   ],
   "source": [
    "url = requests.get('https://fbref.com/en/comps/676/2021/stats/2021-European-Championship-Stats.html')\n",
    "\n",
    "soup = BeautifulSoup(url.text, 'html.parser')\n",
    "#print(soup)\n",
    "#soup.prettify()\n",
    "\n",
    "table = soup.find('div', attrs = {'id' : 'div_stats_squads_standard_for'}).find('table').find('tbody')\n",
    "#print(table)\n",
    "\n",
    "rows = table.find_all('tr')\n",
    "\n",
    "for row in rows:\n",
    "    #print(row)\n",
    "    #print('-----------')\n",
    "    columns = row.find_all('td')\n",
    "    \n",
    "    \n",
    "    if len(columns) > 0:\n",
    "        squad = row.find('th').find('a').text\n",
    "        if squad in qualifying_countries:\n",
    "        \n",
    "            played90s = float(columns[6].text)\n",
    "\n",
    "            progcarry = float(columns[19].text)\n",
    "            progpass = float(columns[20].text)\n",
    "\n",
    "            progcarryx90 = round(progcarry/played90s, 2)\n",
    "            progpassx90 = round(progpass/played90s, 2)\n",
    "\n",
    "            goalsx90 = float(columns[21].text)\n",
    "            assistsx90 = float(columns[22].text)\n",
    "            expgoalsx90 = float(columns[26].text)\n",
    "            expassistsx90 = float(columns[27].text)\n",
    "\n",
    "            diffgoalx90 = round(goalsx90 - expgoalsx90, 2)\n",
    "            diffassistx90 = round(assistsx90 - expassistsx90, 2)\n",
    "        \n",
    "            values = [squad, played90s, progcarryx90, progpassx90, goalsx90, assistsx90, expgoalsx90, expassistsx90, diffgoalx90, diffassistx90]\n",
    "            print(values)"
   ]
  },
  {
   "cell_type": "markdown",
   "id": "f904515c",
   "metadata": {},
   "source": [
    "**Nations League 2022/23 Database Scraping**\n",
    "\n",
    "Note: no progcarries/progpasses or expected goals/assists"
   ]
  },
  {
   "cell_type": "code",
   "execution_count": 7,
   "id": "86c5eceb",
   "metadata": {},
   "outputs": [
    {
     "name": "stdout",
     "output_type": "stream",
     "text": [
      "['Albania', 4.0, 1.0, 0.5]\n",
      "['Austria', 6.0, 1.0, 1.0]\n",
      "['Belgium', 6.0, 1.83, 1.83]\n",
      "['Croatia', 8.7, 1.38, 0.69]\n",
      "['Czech Republic', 6.0, 0.67, 0.5]\n",
      "['Denmark', 6.0, 1.5, 1.33]\n",
      "['England', 6.0, 0.67, 0.33]\n",
      "['France', 6.0, 0.83, 0.67]\n",
      "['Germany', 6.0, 1.83, 1.17]\n",
      "['Hungary', 6.0, 1.17, 1.0]\n",
      "['Italy', 8.0, 1.5, 1.25]\n",
      "['Netherlands', 8.3, 2.16, 1.68]\n",
      "['Portugal', 6.0, 1.83, 1.83]\n",
      "['Romania', 6.0, 1.0, 1.0]\n",
      "['Scotland', 6.0, 1.83, 1.5]\n",
      "['Serbia', 6.0, 2.17, 2.17]\n",
      "['Slovakia', 6.0, 0.83, 0.5]\n",
      "['Slovenia', 6.0, 1.0, 0.83]\n",
      "['Spain', 8.3, 1.2, 0.84]\n",
      "['Switzerland', 6.0, 1.0, 0.83]\n",
      "['Türkiye', 6.0, 2.83, 1.83]\n"
     ]
    }
   ],
   "source": [
    "url = requests.get('https://fbref.com/en/comps/677/stats/UEFA-Nations-League-Stats.html')\n",
    "\n",
    "soup = BeautifulSoup(url.text, 'html.parser')\n",
    "#print(soup)\n",
    "#soup.prettify()\n",
    "\n",
    "table = soup.find('div', attrs = {'id' : 'switcher_stats_squads_standard'}).find('table').find('tbody')\n",
    "#print(table)\n",
    "\n",
    "rows = table.find_all('tr')\n",
    "\n",
    "for row in rows:\n",
    "    #print(row)\n",
    "    #print('-----------')\n",
    "    columns = row.find_all('td')\n",
    "    \n",
    "    if len(columns) > 0:\n",
    "        squad = row.find('th').find('a').text\n",
    "        if squad in qualifying_countries:\n",
    "        \n",
    "            played90s = float(columns[6].text)\n",
    "\n",
    "            #progcarry = float(columns[19].text)\n",
    "            #progpass = float(columns[20].text)\n",
    "\n",
    "            #progcarryx90 = round(progcarry/played90s, 2)\n",
    "            #progpassx90 = round(progpass/played90s, 2)\n",
    "\n",
    "            goalsx90 = float(columns[15].text)\n",
    "            assistsx90 = float(columns[16].text)\n",
    "            #expgoalsx90 = float(columns[26].text)\n",
    "            #expassistsx90 = float(columns[27].text)\n",
    "\n",
    "            #diffgoalx90 = round(goalsx90 - expgoalsx90, 2)\n",
    "            #diffassistx90 = round(assistsx90 - expassistsx90, 2)\n",
    "\n",
    "            values = [squad, played90s, goalsx90, assistsx90]\n",
    "            print(values)\n",
    "    "
   ]
  },
  {
   "cell_type": "markdown",
   "id": "5970399c",
   "metadata": {},
   "source": [
    "**World Cup 2022 Database Scraping**"
   ]
  },
  {
   "cell_type": "code",
   "execution_count": 8,
   "id": "1878f7d6",
   "metadata": {},
   "outputs": [
    {
     "name": "stdout",
     "output_type": "stream",
     "text": [
      "['Belgium', 3.0, 15.67, 43.67, 0.33, 0.33, 1.57, 1.27, -1.24, -0.94]\n",
      "['Croatia', 7.7, 22.47, 45.19, 1.04, 1.04, 0.91, 0.74, 0.13, 0.3]\n",
      "['Denmark', 3.0, 15.67, 60.33, 0.33, 0.33, 0.9, 0.59, -0.57, -0.26]\n",
      "['England', 5.0, 18.0, 50.2, 2.6, 2.2, 1.72, 1.12, 0.88, 1.08]\n",
      "['France', 7.3, 21.51, 39.59, 2.18, 1.64, 1.88, 1.4, 0.3, 0.24]\n",
      "['Germany', 3.0, 22.33, 60.0, 2.0, 1.67, 3.35, 2.5, -1.35, -0.83]\n",
      "['Netherlands', 5.3, 15.47, 36.42, 1.87, 1.5, 0.86, 0.54, 1.01, 0.96]\n",
      "['Portugal', 5.0, 21.8, 44.2, 2.4, 2.0, 1.57, 1.05, 0.83, 0.95]\n",
      "['Serbia', 3.0, 20.67, 35.0, 1.67, 1.33, 1.12, 0.95, 0.55, 0.38]\n",
      "['Spain', 4.3, 21.63, 62.79, 2.08, 1.15, 1.42, 0.92, 0.66, 0.23]\n",
      "['Switzerland', 4.0, 20.25, 40.0, 1.25, 1.0, 1.37, 0.91, -0.12, 0.09]\n"
     ]
    }
   ],
   "source": [
    "url = requests.get('https://fbref.com/en/comps/1/stats/World-Cup-Stats.html')\n",
    "\n",
    "soup = BeautifulSoup(url.text, 'html.parser')\n",
    "#print(soup)\n",
    "#soup.prettify()\n",
    "\n",
    "table = soup.find('div', attrs = {'id' : 'div_stats_squads_standard_for'}).find('table').find('tbody')\n",
    "#print(table)\n",
    "\n",
    "rows = table.find_all('tr')\n",
    "\n",
    "european_countries = ['Belgium', 'Croatia', 'Denmark', 'England', 'Finland', 'France', 'Germany', 'Netherlands', 'Poland', 'Portugal', 'Serbia', 'Spain', 'Switzerland', 'Wales']\n",
    "\n",
    "for row in rows:\n",
    "    #print(row)\n",
    "    #print('-----------')\n",
    "    columns = row.find_all('td')\n",
    "    \n",
    "    \n",
    "    if len(columns) > 0:\n",
    "        squad = row.find('th').find('a').text\n",
    "        if squad in qualifying_countries:\n",
    "            played90s = float(columns[6].text)\n",
    "        \n",
    "            progcarry = float(columns[19].text)\n",
    "            progpass = float(columns[20].text)\n",
    "        \n",
    "            progcarryx90 = round(progcarry/played90s, 2)\n",
    "            progpassx90 = round(progpass/played90s, 2)\n",
    "        \n",
    "            goalsx90 = float(columns[21].text)\n",
    "            assistsx90 = float(columns[22].text)\n",
    "            expgoalsx90 = float(columns[26].text)\n",
    "            expassistsx90 = float(columns[27].text)\n",
    "        \n",
    "            diffgoalx90 = round(goalsx90 - expgoalsx90, 2)\n",
    "            diffassistx90 = round(assistsx90 - expassistsx90, 2)\n",
    "            \n",
    "            values = [squad, played90s, progcarryx90, progpassx90, goalsx90, assistsx90, expgoalsx90, expassistsx90, diffgoalx90, diffassistx90]\n",
    "            print(values)"
   ]
  },
  {
   "cell_type": "markdown",
   "id": "86108aec",
   "metadata": {},
   "source": [
    "**World Cup 2018 Database Scraping**"
   ]
  },
  {
   "cell_type": "code",
   "execution_count": 4,
   "id": "76d193f5",
   "metadata": {},
   "outputs": [
    {
     "name": "stdout",
     "output_type": "stream",
     "text": [
      "['Belgium', 7.0, 25.14, 42.71, 2.14, 1.71, 1.9, 1.43, 0.24, 0.28]\n",
      "['Croatia', 8.0, 22.0, 41.12, 1.62, 1.0, 1.4, 0.85, 0.22, 0.15]\n",
      "['Denmark', 4.3, 8.37, 32.09, 0.69, 0.69, 0.68, 0.56, 0.01, 0.13]\n",
      "['England', 7.7, 17.14, 32.6, 1.57, 0.78, 1.46, 0.92, 0.11, -0.14]\n",
      "['France', 7.0, 14.14, 38.29, 1.71, 0.86, 1.3, 0.65, 0.41, 0.21]\n",
      "['Germany', 3.0, 32.67, 99.33, 0.67, 0.67, 1.85, 1.54, -1.18, -0.87]\n",
      "['Portugal', 4.0, 23.0, 44.5, 1.5, 1.0, 1.21, 0.66, 0.29, 0.34]\n",
      "['Serbia', 3.0, 20.33, 45.33, 0.67, 0.33, 1.07, 0.91, -0.4, -0.58]\n",
      "['Spain', 4.3, 25.35, 63.02, 1.38, 0.69, 1.89, 1.36, -0.51, -0.67]\n",
      "['Switzerland', 4.0, 17.5, 46.25, 1.25, 1.0, 1.27, 1.01, -0.02, -0.01]\n"
     ]
    }
   ],
   "source": [
    "url = requests.get('https://fbref.com/en/comps/1/2018/stats/2018-World-Cup-Stats')\n",
    "\n",
    "soup = BeautifulSoup(url.text, 'html.parser')\n",
    "#print(soup)\n",
    "#soup.prettify()\n",
    "\n",
    "table = soup.find('div', attrs = {'id' : 'div_stats_squads_standard_for'}).find('table').find('tbody')\n",
    "#print(table)\n",
    "\n",
    "rows = table.find_all('tr')\n",
    "\n",
    "european_countries = ['Belgium', 'Croatia', 'Denmark', 'England', 'Finland', 'France', 'Germany', 'Netherlands', 'Poland', 'Portugal', 'Serbia', 'Spain', 'Switzerland', 'Wales']\n",
    "\n",
    "for row in rows:\n",
    "    #print(row)\n",
    "    #print('-----------')\n",
    "    columns = row.find_all('td')\n",
    "    \n",
    "    \n",
    "    if len(columns) > 0:\n",
    "        squad = row.find('th').find('a').text\n",
    "        if squad in qualifying_countries:\n",
    "            played90s = float(columns[6].text)\n",
    "        \n",
    "            progcarry = float(columns[19].text)\n",
    "            progpass = float(columns[20].text)\n",
    "        \n",
    "            progcarryx90 = round(progcarry/played90s, 2)\n",
    "            progpassx90 = round(progpass/played90s, 2)\n",
    "        \n",
    "            goalsx90 = float(columns[21].text)\n",
    "            assistsx90 = float(columns[22].text)\n",
    "            expgoalsx90 = float(columns[26].text)\n",
    "            expassistsx90 = float(columns[27].text)\n",
    "        \n",
    "            diffgoalx90 = round(goalsx90 - expgoalsx90, 2)\n",
    "            diffassistx90 = round(assistsx90 - expassistsx90, 2)\n",
    "            \n",
    "            values = [squad, played90s, progcarryx90, progpassx90, goalsx90, assistsx90, expgoalsx90, expassistsx90, diffgoalx90, diffassistx90]\n",
    "            print(values)"
   ]
  },
  {
   "cell_type": "code",
   "execution_count": null,
   "id": "e6f535e0",
   "metadata": {},
   "outputs": [],
   "source": []
  }
 ],
 "metadata": {
  "kernelspec": {
   "display_name": "Python 3 (ipykernel)",
   "language": "python",
   "name": "python3"
  },
  "language_info": {
   "codemirror_mode": {
    "name": "ipython",
    "version": 3
   },
   "file_extension": ".py",
   "mimetype": "text/x-python",
   "name": "python",
   "nbconvert_exporter": "python",
   "pygments_lexer": "ipython3",
   "version": "3.11.5"
  }
 },
 "nbformat": 4,
 "nbformat_minor": 5
}
