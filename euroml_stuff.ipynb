{
 "cells": [
  {
   "cell_type": "code",
   "execution_count": 1,
   "id": "a7dc22f4",
   "metadata": {},
   "outputs": [],
   "source": [
    "import numpy as np\n",
    "import pandas as pd\n",
    "from sklearn.model_selection import train_test_split\n",
    "from sklearn.preprocessing import StandardScaler\n",
    "from sklearn.ensemble import RandomForestClassifier"
   ]
  },
  {
   "cell_type": "code",
   "execution_count": 3,
   "id": "8b98033a",
   "metadata": {},
   "outputs": [],
   "source": [
    "#read in csv and index teams based on id\n",
    "df = pd.read_csv('euro2024_data.csv')\n",
    "teams_index = df.set_index('id',drop=True)"
   ]
  },
  {
   "cell_type": "code",
   "execution_count": 4,
   "id": "622e75aa",
   "metadata": {},
   "outputs": [],
   "source": [
    "#columns and axis for training\n",
    "feature_columns = df.columns.difference(['squad','id']).tolist() #takes in every value except for squad and id\n",
    "x = df[feature_columns]\n",
    "\n",
    "#TODO: make a formula to determine a winner for y-axis training data"
   ]
  },
  {
   "cell_type": "code",
   "execution_count": 5,
   "id": "f9959a91",
   "metadata": {},
   "outputs": [],
   "source": [
    "#dictionary containing all the groups for group stage\n",
    "groups = {\n",
    "    'Group A': ['Germany','Scotland','Hungary','Switzerland'],\n",
    "    'Group B': ['Spain','Italy','Croatia','Albania'],\n",
    "    'Group C': ['Slovenia','Denmark','Serbia','England'],\n",
    "    'Group D': ['Poland','Netherlands','Austria','France'],\n",
    "    'Group E': ['Belgium','Slovakia','Romania','Ukraine'],\n",
    "    'Group F': ['Türkiye', 'Portugal', 'Georgia', 'Czech Republic'],\n",
    "}"
   ]
  },
  {
   "cell_type": "code",
   "execution_count": null,
   "id": "1bbd1d14",
   "metadata": {},
   "outputs": [],
   "source": [
    "#todo, make helper functions for simulating a match, simulating the group stage, and simulating the knockout stage"
   ]
  }
 ],
 "metadata": {
  "kernelspec": {
   "display_name": "Python 3 (ipykernel)",
   "language": "python",
   "name": "python3"
  },
  "language_info": {
   "codemirror_mode": {
    "name": "ipython",
    "version": 3
   },
   "file_extension": ".py",
   "mimetype": "text/x-python",
   "name": "python",
   "nbconvert_exporter": "python",
   "pygments_lexer": "ipython3",
   "version": "3.11.5"
  }
 },
 "nbformat": 4,
 "nbformat_minor": 5
}
